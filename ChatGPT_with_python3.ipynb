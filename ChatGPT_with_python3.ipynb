{
  "nbformat": 4,
  "nbformat_minor": 0,
  "metadata": {
    "colab": {
      "provenance": []
    },
    "kernelspec": {
      "name": "python3",
      "display_name": "Python 3"
    },
    "language_info": {
      "name": "python"
    }
  },
  "cells": [
    {
      "cell_type": "markdown",
      "source": [
        "# Using ChatGPT with Python3: A Beginner's Guide\n",
        "\n",
        "ChatGPT is a variant of the GPT-3 language model, specifically designed for conversational language generation. To use ChatGPT in Python, you will need to install the OpenAI API client and obtain an API key. You can use the `openai.api_request()` function provided by the OpenAI Python library to send the request to the ChatGPT model ¹. OpenAI’s ChatGPT models are designed to generate text in response to user prompts, making them ideal for use in chatbot and virtual assistant applications ².\n",
        "\n",
        "\n",
        "\n",
        "References:\n",
        "\n",
        "(1) How to Use OpenAI’s ChatGPT Model in Python - DataDrivenInvestor. https://medium.datadriveninvestor.com/how-to-use-openais-chatgpt-model-in-python-by-chatgpt-fe5040f61c70 Accessed 5/30/2023.\n",
        "\n",
        "(2) A Simple Guide to The (New) ChatGPT API with Python. https://medium.com/geekculture/a-simple-guide-to-chatgpt-api-with-python-c147985ae28 Accessed 5/30/2023.\n",
        "\n",
        "(3) Introducing ChatGPT - OpenAI. https://openai.com/blog/chatgpt Accessed 5/30/2023.\n",
        "\n",
        "(4) ChatGPT plugins - OpenAI. https://openai.com/blog/chatgpt-plugins Accessed 5/30/2023.\n"
      ],
      "metadata": {
        "id": "vR4ZO2SN7n9C"
      }
    },
    {
      "cell_type": "code",
      "execution_count": null,
      "metadata": {
        "colab": {
          "base_uri": "https://localhost:8080/"
        },
        "id": "WsncGM_P6rtF",
        "outputId": "0efcd1d9-d6c0-4fcb-9508-a78e3a336694"
      },
      "outputs": [
        {
          "output_type": "stream",
          "name": "stdout",
          "text": [
            "Looking in indexes: https://pypi.org/simple, https://us-python.pkg.dev/colab-wheels/public/simple/\n",
            "Requirement already satisfied: openai in /usr/local/lib/python3.10/dist-packages (0.27.7)\n",
            "Requirement already satisfied: requests>=2.20 in /usr/local/lib/python3.10/dist-packages (from openai) (2.27.1)\n",
            "Requirement already satisfied: tqdm in /usr/local/lib/python3.10/dist-packages (from openai) (4.65.0)\n",
            "Requirement already satisfied: aiohttp in /usr/local/lib/python3.10/dist-packages (from openai) (3.8.4)\n",
            "Requirement already satisfied: urllib3<1.27,>=1.21.1 in /usr/local/lib/python3.10/dist-packages (from requests>=2.20->openai) (1.26.15)\n",
            "Requirement already satisfied: certifi>=2017.4.17 in /usr/local/lib/python3.10/dist-packages (from requests>=2.20->openai) (2022.12.7)\n",
            "Requirement already satisfied: charset-normalizer~=2.0.0 in /usr/local/lib/python3.10/dist-packages (from requests>=2.20->openai) (2.0.12)\n",
            "Requirement already satisfied: idna<4,>=2.5 in /usr/local/lib/python3.10/dist-packages (from requests>=2.20->openai) (3.4)\n",
            "Requirement already satisfied: attrs>=17.3.0 in /usr/local/lib/python3.10/dist-packages (from aiohttp->openai) (23.1.0)\n",
            "Requirement already satisfied: multidict<7.0,>=4.5 in /usr/local/lib/python3.10/dist-packages (from aiohttp->openai) (6.0.4)\n",
            "Requirement already satisfied: async-timeout<5.0,>=4.0.0a3 in /usr/local/lib/python3.10/dist-packages (from aiohttp->openai) (4.0.2)\n",
            "Requirement already satisfied: yarl<2.0,>=1.0 in /usr/local/lib/python3.10/dist-packages (from aiohttp->openai) (1.9.2)\n",
            "Requirement already satisfied: frozenlist>=1.1.1 in /usr/local/lib/python3.10/dist-packages (from aiohttp->openai) (1.3.3)\n",
            "Requirement already satisfied: aiosignal>=1.1.2 in /usr/local/lib/python3.10/dist-packages (from aiohttp->openai) (1.3.1)\n"
          ]
        }
      ],
      "source": [
        "# Install OpenAI API client library for Python\n",
        "!pip3 install openai"
      ]
    },
    {
      "cell_type": "code",
      "source": [
        "# Check version of installed OpenAI API client library for Python\n",
        "!openai --version"
      ],
      "metadata": {
        "colab": {
          "base_uri": "https://localhost:8080/"
        },
        "id": "1RAADs3U9QOc",
        "outputId": "7c79535f-06c4-4600-d5a9-63f0a5990f09"
      },
      "execution_count": null,
      "outputs": [
        {
          "output_type": "stream",
          "name": "stdout",
          "text": [
            "openai\n",
            "0.27.7\n"
          ]
        }
      ]
    },
    {
      "cell_type": "code",
      "source": [
        "# Import the library in Python3 code\n",
        "try:\n",
        "  import openai\n",
        "  print(\"openai library imported successfully!\")\n",
        "except:\n",
        "  print(\"unable to import openai library!\")"
      ],
      "metadata": {
        "colab": {
          "base_uri": "https://localhost:8080/"
        },
        "id": "oH2VXzXU94gM",
        "outputId": "c289bb0d-94df-4f57-f55c-add9f5928743"
      },
      "execution_count": null,
      "outputs": [
        {
          "output_type": "stream",
          "name": "stdout",
          "text": [
            "openai library imported successfully!\n"
          ]
        }
      ]
    },
    {
      "cell_type": "code",
      "source": [
        "# Set up the OpenAI API client\n",
        "\"\"\"refer for generating OpenAI api key:\n",
        "How to Get an OpenAI API Key: https://www.howtogeek.com/885918/how-to-get-an-openai-api-key/#:~:text=Go%20to%20OpenAI%27s%20Platform%20website%20at%20platform.openai.com%20and,Secret%20Key%22%20to%20generate%20a%20new%20API%20key.\n",
        "\"\"\"\n",
        "\n",
        "openai.api_key = input(\"enter_API_KEY:\")"
      ],
      "metadata": {
        "id": "c8bxQNWH-ZV_"
      },
      "execution_count": null,
      "outputs": []
    },
    {
      "cell_type": "code",
      "source": [
        "# Set up the model and prompt\n",
        "model_engine = \"text-davinci-003\"\n",
        "prompt = \"Hello, how are you today?\""
      ],
      "metadata": {
        "id": "w9BexeuB-dBY"
      },
      "execution_count": null,
      "outputs": []
    },
    {
      "cell_type": "code",
      "source": [
        "# Generate a response\n",
        "completion = openai.Completion.create(\n",
        "    engine=model_engine,\n",
        "    prompt=prompt,\n",
        "    max_tokens=1024,\n",
        "    n=1,\n",
        "    stop=None,\n",
        "    temperature=0.5,\n",
        ")"
      ],
      "metadata": {
        "id": "c7UVwgBA-hkx"
      },
      "execution_count": null,
      "outputs": []
    },
    {
      "cell_type": "code",
      "source": [
        "# Received response from ChatGPT\n",
        "response = completion.choices[0].text\n",
        "print(response)"
      ],
      "metadata": {
        "id": "C2LUzCp4-rEd",
        "colab": {
          "base_uri": "https://localhost:8080/"
        },
        "outputId": "d4b4d09e-b680-46f1-c73b-10edc7d67369"
      },
      "execution_count": null,
      "outputs": [
        {
          "output_type": "stream",
          "name": "stdout",
          "text": [
            "\n",
            "\n",
            "I'm doing well, thank you. How about you?\n"
          ]
        }
      ]
    }
  ]
}